{
  "nbformat": 4,
  "nbformat_minor": 0,
  "metadata": {
    "colab": {
      "name": "minotaur_moves.ipynb",
      "provenance": []
    },
    "kernelspec": {
      "name": "python3",
      "display_name": "Python 3"
    }
  },
  "cells": [
    {
      "cell_type": "code",
      "metadata": {
        "id": "4Kiy40liCR1n"
      },
      "source": [
        "import numpy as np"
      ],
      "execution_count": null,
      "outputs": []
    },
    {
      "cell_type": "code",
      "metadata": {
        "id": "8JGZ8VA6CZib"
      },
      "source": [
        "maze = np.array([\n",
        "    [0, 0, 1, 0, 0, 0, 0, 0],\n",
        "    [0, 0, 1, 0, 0, 1, 0, 0],\n",
        "    [0, 0, 1, 0, 0, 1, 1, 1],\n",
        "    [0, 0, 1, 0, 0, 1, 0, 0],\n",
        "    [0, 0, 0, 0, 0, 0, 0, 0],\n",
        "    [0, 1, 1, 1, 1, 1, 1, 0],\n",
        "    [0, 0, 0, 0, 1, 2, 0, 0]\n",
        "])"
      ],
      "execution_count": null,
      "outputs": []
    },
    {
      "cell_type": "code",
      "metadata": {
        "id": "Yq1FjlfZIEpa"
      },
      "source": [
        "STAY       = 0\n",
        "MOVE_LEFT  = 1\n",
        "MOVE_RIGHT = 2\n",
        "MOVE_UP    = 3\n",
        "MOVE_DOWN  = 4\n",
        "\n",
        "def __actions(): #todo: do an action function just for the minotaur\n",
        "    actions = dict();\n",
        "    #actions[STAY]       = (0, 0); #not for minotaur\n",
        "    actions[MOVE_LEFT]  = (0,-1);\n",
        "    actions[MOVE_RIGHT] = (0, 1);\n",
        "    actions[MOVE_UP]    = (-1,0);\n",
        "    actions[MOVE_DOWN]  = (1,0);\n",
        "    return actions;"
      ],
      "execution_count": null,
      "outputs": []
    },
    {
      "cell_type": "code",
      "metadata": {
        "id": "0_ZnZyvCDuQS",
        "colab": {
          "base_uri": "https://localhost:8080/"
        },
        "outputId": "0d5259ca-870e-490a-8871-50cd09b5e5e9"
      },
      "source": [
        "actions = __actions()\n",
        "possible_actions = list()\n",
        "\n",
        "state = (4,5)\n",
        "row = state[0]\n",
        "col = state[1]\n",
        "\n",
        "for _, action in actions.items():\n",
        "    # Compute the future position given current (state, action)\n",
        "    row = state[0] + action[0];\n",
        "    col = state[1] + action[1];\n",
        "    #print(row, col)\n",
        "    if ((row == -1) or (row == maze.shape[0]) or (col == -1) or (col == maze.shape[1])): #TODO: add self.maze.shape\n",
        "        #print(\"hitting maze border\") #we do not consider this action\n",
        "    elif (maze[row,col] == 1):\n",
        "        #print(\"hitting maze walls\")\n",
        "        if action[0]!=0: row += action[0]; #print(\"new:\", row, col); #vertical jump\n",
        "        elif action[1]!=0: col += action[1]; #print(\"new:\",row, col); #horizontal jump\n",
        "        if (maze[row,col] != 1): possible_actions.append((row, col)) #save this action if the jump doe snot end in a wall\n",
        "    else:\n",
        "        possible_actions.append((row,col))\n",
        "\n",
        "\n",
        "possible_actions                  "
      ],
      "execution_count": null,
      "outputs": [
        {
          "output_type": "stream",
          "text": [
            "4 4\n",
            "4 6\n",
            "3 5\n",
            "hitting maze walls\n",
            "new: 2 5\n",
            "5 5\n",
            "hitting maze walls\n",
            "new: 6 5\n"
          ],
          "name": "stdout"
        },
        {
          "output_type": "execute_result",
          "data": {
            "text/plain": [
              "[(4, 4), (4, 6), (6, 5)]"
            ]
          },
          "metadata": {
            "tags": []
          },
          "execution_count": 69
        }
      ]
    },
    {
      "cell_type": "code",
      "metadata": {
        "id": "N69OQAVJRQYa",
        "colab": {
          "base_uri": "https://localhost:8080/"
        },
        "outputId": "8b35e538-e784-436c-ae40-545524f6b99f"
      },
      "source": [
        "n = len(possible_actions)\n",
        "prob = 1/n\n",
        "\n",
        "import random\n",
        "#Choose an action Uniformly at random\n",
        "THE_chosen = possible_actions[random.randint(0, n)]\n",
        "THE_chosen"
      ],
      "execution_count": null,
      "outputs": [
        {
          "output_type": "execute_result",
          "data": {
            "text/plain": [
              "(4, 6)"
            ]
          },
          "metadata": {
            "tags": []
          },
          "execution_count": 79
        }
      ]
    }
  ]
}