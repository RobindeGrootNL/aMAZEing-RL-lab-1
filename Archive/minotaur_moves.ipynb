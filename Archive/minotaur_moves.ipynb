{
 "cells": [
  {
   "cell_type": "code",
   "execution_count": null,
   "metadata": {
    "id": "4Kiy40liCR1n"
   },
   "outputs": [],
   "source": [
    "import numpy as np"
   ]
  },
  {
   "cell_type": "code",
   "execution_count": null,
   "metadata": {
    "id": "8JGZ8VA6CZib"
   },
   "outputs": [],
   "source": [
    "maze = np.array([\n",
    "    [0, 0, 1, 0, 0, 0, 0, 0],\n",
    "    [0, 0, 1, 0, 0, 1, 0, 0],\n",
    "    [0, 0, 1, 0, 0, 1, 1, 1],\n",
    "    [0, 0, 1, 0, 0, 1, 0, 0],\n",
    "    [0, 0, 0, 0, 0, 0, 0, 0],\n",
    "    [0, 1, 1, 1, 1, 1, 1, 0],\n",
    "    [0, 0, 0, 0, 1, 2, 0, 0]\n",
    "])"
   ]
  },
  {
   "cell_type": "code",
   "execution_count": null,
   "metadata": {
    "id": "Yq1FjlfZIEpa"
   },
   "outputs": [],
   "source": [
    "STAY       = 0\n",
    "MOVE_LEFT  = 1\n",
    "MOVE_RIGHT = 2\n",
    "MOVE_UP    = 3\n",
    "MOVE_DOWN  = 4\n",
    "\n",
    "def __actions(): #todo: do an action function just for the minotaur\n",
    "    actions = dict();\n",
    "    #actions[STAY]       = (0, 0); #not for minotaur\n",
    "    actions[MOVE_LEFT]  = (0,-1);\n",
    "    actions[MOVE_RIGHT] = (0, 1);\n",
    "    actions[MOVE_UP]    = (-1,0);\n",
    "    actions[MOVE_DOWN]  = (1,0);\n",
    "    return actions;"
   ]
  },
  {
   "cell_type": "code",
   "execution_count": null,
   "metadata": {
    "colab": {
     "base_uri": "https://localhost:8080/"
    },
    "id": "0_ZnZyvCDuQS",
    "outputId": "0d5259ca-870e-490a-8871-50cd09b5e5e9"
   },
   "outputs": [
    {
     "name": "stdout",
     "output_type": "stream",
     "text": [
      "4 4\n",
      "4 6\n",
      "3 5\n",
      "hitting maze walls\n",
      "new: 2 5\n",
      "5 5\n",
      "hitting maze walls\n",
      "new: 6 5\n"
     ]
    },
    {
     "data": {
      "text/plain": [
       "[(4, 4), (4, 6), (6, 5)]"
      ]
     },
     "execution_count": 69,
     "metadata": {
      "tags": []
     },
     "output_type": "execute_result"
    }
   ],
   "source": [
    "actions = __actions()\n",
    "possible_actions = list()\n",
    "\n",
    "state = (4,5)\n",
    "row = state[0]\n",
    "col = state[1]\n",
    "\n",
    "for _, action in actions.items():\n",
    "    # Compute the future position given current (state, action)\n",
    "    row = state[0] + action[0];\n",
    "    col = state[1] + action[1];\n",
    "    #print(row, col)\n",
    "    if ((row == -1) or (row == maze.shape[0]) or (col == -1) or (col == maze.shape[1])): #TODO: add self.maze.shape\n",
    "        #print(\"hitting maze border\") #we do not consider this action\n",
    "    elif (maze[row,col] == 1):\n",
    "        #print(\"hitting maze walls\")\n",
    "        if action[0]!=0: row += action[0]; #print(\"new:\", row, col); #vertical jump\n",
    "        elif action[1]!=0: col += action[1]; #print(\"new:\",row, col); #horizontal jump\n",
    "        if (maze[row,col] != 1): possible_actions.append((row, col)) #save this action if the jump doe snot end in a wall\n",
    "    else:\n",
    "        possible_actions.append((row,col))\n",
    "\n",
    "\n",
    "possible_actions                  "
   ]
  },
  {
   "cell_type": "code",
   "execution_count": null,
   "metadata": {
    "colab": {
     "base_uri": "https://localhost:8080/"
    },
    "id": "N69OQAVJRQYa",
    "outputId": "8b35e538-e784-436c-ae40-545524f6b99f"
   },
   "outputs": [
    {
     "data": {
      "text/plain": [
       "(4, 6)"
      ]
     },
     "execution_count": 79,
     "metadata": {
      "tags": []
     },
     "output_type": "execute_result"
    }
   ],
   "source": [
    "n = len(possible_actions)\n",
    "prob = 1/n\n",
    "\n",
    "import random\n",
    "#Choose an action Uniformly at random\n",
    "THE_chosen = possible_actions[random.randint(0, n)]\n",
    "THE_chosen"
   ]
  }
 ],
 "metadata": {
  "colab": {
   "name": "minotaur_moves.ipynb",
   "provenance": []
  },
  "kernelspec": {
   "display_name": "Python 3",
   "language": "python",
   "name": "python3"
  },
  "language_info": {
   "codemirror_mode": {
    "name": "ipython",
    "version": 3
   },
   "file_extension": ".py",
   "mimetype": "text/x-python",
   "name": "python",
   "nbconvert_exporter": "python",
   "pygments_lexer": "ipython3",
   "version": "3.6.12"
  }
 },
 "nbformat": 4,
 "nbformat_minor": 1
}
